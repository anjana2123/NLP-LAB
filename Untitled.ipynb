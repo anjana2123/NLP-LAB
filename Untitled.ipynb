{
 "cells": [
  {
   "cell_type": "code",
   "execution_count": 1,
   "id": "a238f671-8be0-433c-b3ef-ac3d7d3694c8",
   "metadata": {},
   "outputs": [],
   "source": [
    "import pandas as pd\n",
    "import torch\n",
    "import torch.nn as nn\n",
    "import torch.optim as optim\n",
    "from torch.utils.data import Dataset, DataLoader\n",
    "from spacy import load\n",
    "import en_core_web_sm\n"
   ]
  },
  {
   "cell_type": "code",
   "execution_count": 3,
   "id": "56bca421-a4be-40cc-8a82-e5c3ea23211a",
   "metadata": {},
   "outputs": [],
   "source": [
    "# Load the CSV file\n",
    "df = pd.read_csv(\"C:/Users/anjan/Downloads/tense_prediction.csv\")"
   ]
  },
  {
   "cell_type": "code",
   "execution_count": 8,
   "id": "70c34929-eae3-4fb4-b046-4677bbf516ad",
   "metadata": {},
   "outputs": [
    {
     "data": {
      "text/html": [
       "<div>\n",
       "<style scoped>\n",
       "    .dataframe tbody tr th:only-of-type {\n",
       "        vertical-align: middle;\n",
       "    }\n",
       "\n",
       "    .dataframe tbody tr th {\n",
       "        vertical-align: top;\n",
       "    }\n",
       "\n",
       "    .dataframe thead th {\n",
       "        text-align: right;\n",
       "    }\n",
       "</style>\n",
       "<table border=\"1\" class=\"dataframe\">\n",
       "  <thead>\n",
       "    <tr style=\"text-align: right;\">\n",
       "      <th></th>\n",
       "      <th>sentence</th>\n",
       "      <th>tense</th>\n",
       "    </tr>\n",
       "  </thead>\n",
       "  <tbody>\n",
       "    <tr>\n",
       "      <th>0</th>\n",
       "      <td>I am eating breakfast</td>\n",
       "      <td>present</td>\n",
       "    </tr>\n",
       "    <tr>\n",
       "      <th>1</th>\n",
       "      <td>She will go to the park</td>\n",
       "      <td>future</td>\n",
       "    </tr>\n",
       "    <tr>\n",
       "      <th>2</th>\n",
       "      <td>They played soccer yesterday</td>\n",
       "      <td>past</td>\n",
       "    </tr>\n",
       "    <tr>\n",
       "      <th>3</th>\n",
       "      <td>I will be going to the concert</td>\n",
       "      <td>future</td>\n",
       "    </tr>\n",
       "    <tr>\n",
       "      <th>4</th>\n",
       "      <td>She is eating lunch now</td>\n",
       "      <td>present</td>\n",
       "    </tr>\n",
       "  </tbody>\n",
       "</table>\n",
       "</div>"
      ],
      "text/plain": [
       "     sentence                                         tense\n",
       "0   I am eating breakfast                           present\n",
       "1   She will go to the park                          future\n",
       "2  They played soccer yesterday                        past\n",
       "3   I will be going to the concert                   future\n",
       "4   She is eating lunch now                         present"
      ]
     },
     "execution_count": 8,
     "metadata": {},
     "output_type": "execute_result"
    }
   ],
   "source": [
    "df.head()"
   ]
  },
  {
   "cell_type": "code",
   "execution_count": 9,
   "id": "4ac90b10-23d0-4a70-84f5-6cdc252910b3",
   "metadata": {},
   "outputs": [],
   "source": [
    "# Load the spaCy model\n",
    "nlp = en_core_web_sm.load()"
   ]
  },
  {
   "cell_type": "code",
   "execution_count": 10,
   "id": "b380472b-bc7b-4b6a-a531-c2f253724437",
   "metadata": {},
   "outputs": [],
   "source": [
    "# Preprocess the data\n",
    "class SentenceTenseDataset(Dataset):\n",
    "    def __init__(self, df):\n",
    "        self.sentences = df['sentence'].tolist()\n",
    "        self.tenses = df['tense'].tolist()\n",
    "        self.vocab = sorted(list(set([token.text for sentence in self.sentences for token in nlp(sentence)])))\n",
    "        self.vocab_size = len(self.vocab)\n",
    "        self.word2idx = {word: i for i, word in enumerate(self.vocab)}\n",
    "        self.idx2word = {i: word for i, word in enumerate(self.vocab)}\n",
    "\n",
    "    def __len__(self):\n",
    "        return len(self.sentences)\n",
    "\n",
    "    def __getitem__(self, idx):\n",
    "        sentence = self.sentences[idx]\n",
    "        tense = self.tenses[idx]\n",
    "        input_ids = [self.word2idx[token.text] for token in nlp(sentence)]\n",
    "        target_ids = [self.word2idx[token.text] for token in nlp(tense)]\n",
    "        return input_ids, target_ids"
   ]
  },
  {
   "cell_type": "code",
   "execution_count": 11,
   "id": "7d1d0d4a-6db3-410f-8bdc-e41db6010cac",
   "metadata": {},
   "outputs": [],
   "source": [
    "# Define the encoder-decoder model\n",
    "class EncoderDecoder(nn.Module):\n",
    "    def __init__(self, vocab_size, embedding_size, hidden_size):\n",
    "        super(EncoderDecoder, self).__init__()\n",
    "        self.encoder = nn.LSTM(input_size=embedding_size, hidden_size=hidden_size, bidirectional=True)\n",
    "        self.decoder = nn.LSTM(input_size=embedding_size, hidden_size=hidden_size)\n",
    "        self.attention = nn.Linear(hidden_size * 2, 1)\n",
    "        self.output = nn.Linear(hidden_size * 2, vocab_size)\n",
    "        self.embedding = nn.Embedding(vocab_size, embedding_size)\n",
    "\n",
    "    def forward(self, input_ids, target_ids):\n",
    "        # Encoder\n",
    "        embedded = self.embedding(input_ids)\n",
    "        encoder_outputs, (hidden, cell) = self.encoder(embedded)\n",
    "\n",
    "        # Decoder with Attention\n",
    "        decoder_input = torch.tensor([[self.word2idx['<start>']]] * len(input_ids), device=input_ids.device)\n",
    "        decoder_hidden = (hidden, cell)\n",
    "        output = []\n",
    "        for i in range(len(target_ids)):\n",
    "            decoder_output, decoder_hidden = self.decoder(self.embedding(decoder_input), decoder_hidden)\n",
    "            attention_weights = torch.softmax(self.attention(torch.cat((decoder_output, encoder_outputs), dim=2)), dim=1)\n",
    "            context = torch.sum(attention_weights * encoder_outputs, dim=1)\n",
    "            logits = self.output(torch.cat((decoder_output, context), dim=2))\n",
    "            _, predicted = torch.max(logits, 2)\n",
    "            output.append(predicted)\n",
    "            decoder_input = predicted\n",
    "        return torch.stack(output, dim=1).squeeze(2)\n"
   ]
  },
  {
   "cell_type": "code",
   "execution_count": 15,
   "id": "e7cf21bf-0aa1-4794-b964-8fbb68e5207a",
   "metadata": {},
   "outputs": [
    {
     "ename": "KeyError",
     "evalue": "'sentence'",
     "output_type": "error",
     "traceback": [
      "\u001b[1;31m---------------------------------------------------------------------------\u001b[0m",
      "\u001b[1;31mKeyError\u001b[0m                                  Traceback (most recent call last)",
      "File \u001b[1;32m~\\anaconda3\\Lib\\site-packages\\pandas\\core\\indexes\\base.py:3791\u001b[0m, in \u001b[0;36mIndex.get_loc\u001b[1;34m(self, key)\u001b[0m\n\u001b[0;32m   3790\u001b[0m \u001b[38;5;28;01mtry\u001b[39;00m:\n\u001b[1;32m-> 3791\u001b[0m     \u001b[38;5;28;01mreturn\u001b[39;00m \u001b[38;5;28mself\u001b[39m\u001b[38;5;241m.\u001b[39m_engine\u001b[38;5;241m.\u001b[39mget_loc(casted_key)\n\u001b[0;32m   3792\u001b[0m \u001b[38;5;28;01mexcept\u001b[39;00m \u001b[38;5;167;01mKeyError\u001b[39;00m \u001b[38;5;28;01mas\u001b[39;00m err:\n",
      "File \u001b[1;32mindex.pyx:152\u001b[0m, in \u001b[0;36mpandas._libs.index.IndexEngine.get_loc\u001b[1;34m()\u001b[0m\n",
      "File \u001b[1;32mindex.pyx:181\u001b[0m, in \u001b[0;36mpandas._libs.index.IndexEngine.get_loc\u001b[1;34m()\u001b[0m\n",
      "File \u001b[1;32mpandas\\_libs\\hashtable_class_helper.pxi:7080\u001b[0m, in \u001b[0;36mpandas._libs.hashtable.PyObjectHashTable.get_item\u001b[1;34m()\u001b[0m\n",
      "File \u001b[1;32mpandas\\_libs\\hashtable_class_helper.pxi:7088\u001b[0m, in \u001b[0;36mpandas._libs.hashtable.PyObjectHashTable.get_item\u001b[1;34m()\u001b[0m\n",
      "\u001b[1;31mKeyError\u001b[0m: 'sentence'",
      "\nThe above exception was the direct cause of the following exception:\n",
      "\u001b[1;31mKeyError\u001b[0m                                  Traceback (most recent call last)",
      "Cell \u001b[1;32mIn[15], line 2\u001b[0m\n\u001b[0;32m      1\u001b[0m \u001b[38;5;66;03m# Train the model\u001b[39;00m\n\u001b[1;32m----> 2\u001b[0m dataset \u001b[38;5;241m=\u001b[39m SentenceTenseDataset(df)\n\u001b[0;32m      3\u001b[0m model \u001b[38;5;241m=\u001b[39m EncoderDecoder(vocab_size\u001b[38;5;241m=\u001b[39mdataset\u001b[38;5;241m.\u001b[39mvocab_size, embedding_size\u001b[38;5;241m=\u001b[39m\u001b[38;5;241m128\u001b[39m, hidden_size\u001b[38;5;241m=\u001b[39m\u001b[38;5;241m256\u001b[39m)\n\u001b[0;32m      4\u001b[0m optimizer \u001b[38;5;241m=\u001b[39m optim\u001b[38;5;241m.\u001b[39mAdam(model\u001b[38;5;241m.\u001b[39mparameters(), lr\u001b[38;5;241m=\u001b[39m\u001b[38;5;241m0.001\u001b[39m)\n",
      "Cell \u001b[1;32mIn[10], line 4\u001b[0m, in \u001b[0;36mSentenceTenseDataset.__init__\u001b[1;34m(self, df)\u001b[0m\n\u001b[0;32m      3\u001b[0m \u001b[38;5;28;01mdef\u001b[39;00m \u001b[38;5;21m__init__\u001b[39m(\u001b[38;5;28mself\u001b[39m, df):\n\u001b[1;32m----> 4\u001b[0m     \u001b[38;5;28mself\u001b[39m\u001b[38;5;241m.\u001b[39msentences \u001b[38;5;241m=\u001b[39m df[\u001b[38;5;124m'\u001b[39m\u001b[38;5;124msentence\u001b[39m\u001b[38;5;124m'\u001b[39m]\u001b[38;5;241m.\u001b[39mtolist()\n\u001b[0;32m      5\u001b[0m     \u001b[38;5;28mself\u001b[39m\u001b[38;5;241m.\u001b[39mtenses \u001b[38;5;241m=\u001b[39m df[\u001b[38;5;124m'\u001b[39m\u001b[38;5;124mtense\u001b[39m\u001b[38;5;124m'\u001b[39m]\u001b[38;5;241m.\u001b[39mtolist()\n\u001b[0;32m      6\u001b[0m     \u001b[38;5;28mself\u001b[39m\u001b[38;5;241m.\u001b[39mvocab \u001b[38;5;241m=\u001b[39m \u001b[38;5;28msorted\u001b[39m(\u001b[38;5;28mlist\u001b[39m(\u001b[38;5;28mset\u001b[39m([token\u001b[38;5;241m.\u001b[39mtext \u001b[38;5;28;01mfor\u001b[39;00m sentence \u001b[38;5;129;01min\u001b[39;00m \u001b[38;5;28mself\u001b[39m\u001b[38;5;241m.\u001b[39msentences \u001b[38;5;28;01mfor\u001b[39;00m token \u001b[38;5;129;01min\u001b[39;00m nlp(sentence)])))\n",
      "File \u001b[1;32m~\\anaconda3\\Lib\\site-packages\\pandas\\core\\frame.py:3893\u001b[0m, in \u001b[0;36mDataFrame.__getitem__\u001b[1;34m(self, key)\u001b[0m\n\u001b[0;32m   3891\u001b[0m \u001b[38;5;28;01mif\u001b[39;00m \u001b[38;5;28mself\u001b[39m\u001b[38;5;241m.\u001b[39mcolumns\u001b[38;5;241m.\u001b[39mnlevels \u001b[38;5;241m>\u001b[39m \u001b[38;5;241m1\u001b[39m:\n\u001b[0;32m   3892\u001b[0m     \u001b[38;5;28;01mreturn\u001b[39;00m \u001b[38;5;28mself\u001b[39m\u001b[38;5;241m.\u001b[39m_getitem_multilevel(key)\n\u001b[1;32m-> 3893\u001b[0m indexer \u001b[38;5;241m=\u001b[39m \u001b[38;5;28mself\u001b[39m\u001b[38;5;241m.\u001b[39mcolumns\u001b[38;5;241m.\u001b[39mget_loc(key)\n\u001b[0;32m   3894\u001b[0m \u001b[38;5;28;01mif\u001b[39;00m is_integer(indexer):\n\u001b[0;32m   3895\u001b[0m     indexer \u001b[38;5;241m=\u001b[39m [indexer]\n",
      "File \u001b[1;32m~\\anaconda3\\Lib\\site-packages\\pandas\\core\\indexes\\base.py:3798\u001b[0m, in \u001b[0;36mIndex.get_loc\u001b[1;34m(self, key)\u001b[0m\n\u001b[0;32m   3793\u001b[0m     \u001b[38;5;28;01mif\u001b[39;00m \u001b[38;5;28misinstance\u001b[39m(casted_key, \u001b[38;5;28mslice\u001b[39m) \u001b[38;5;129;01mor\u001b[39;00m (\n\u001b[0;32m   3794\u001b[0m         \u001b[38;5;28misinstance\u001b[39m(casted_key, abc\u001b[38;5;241m.\u001b[39mIterable)\n\u001b[0;32m   3795\u001b[0m         \u001b[38;5;129;01mand\u001b[39;00m \u001b[38;5;28many\u001b[39m(\u001b[38;5;28misinstance\u001b[39m(x, \u001b[38;5;28mslice\u001b[39m) \u001b[38;5;28;01mfor\u001b[39;00m x \u001b[38;5;129;01min\u001b[39;00m casted_key)\n\u001b[0;32m   3796\u001b[0m     ):\n\u001b[0;32m   3797\u001b[0m         \u001b[38;5;28;01mraise\u001b[39;00m InvalidIndexError(key)\n\u001b[1;32m-> 3798\u001b[0m     \u001b[38;5;28;01mraise\u001b[39;00m \u001b[38;5;167;01mKeyError\u001b[39;00m(key) \u001b[38;5;28;01mfrom\u001b[39;00m \u001b[38;5;21;01merr\u001b[39;00m\n\u001b[0;32m   3799\u001b[0m \u001b[38;5;28;01mexcept\u001b[39;00m \u001b[38;5;167;01mTypeError\u001b[39;00m:\n\u001b[0;32m   3800\u001b[0m     \u001b[38;5;66;03m# If we have a listlike key, _check_indexing_error will raise\u001b[39;00m\n\u001b[0;32m   3801\u001b[0m     \u001b[38;5;66;03m#  InvalidIndexError. Otherwise we fall through and re-raise\u001b[39;00m\n\u001b[0;32m   3802\u001b[0m     \u001b[38;5;66;03m#  the TypeError.\u001b[39;00m\n\u001b[0;32m   3803\u001b[0m     \u001b[38;5;28mself\u001b[39m\u001b[38;5;241m.\u001b[39m_check_indexing_error(key)\n",
      "\u001b[1;31mKeyError\u001b[0m: 'sentence'"
     ]
    }
   ],
   "source": [
    "# Train the model\n",
    "dataset = SentenceTenseDataset(df)\n",
    "model = EncoderDecoder(vocab_size=dataset.vocab_size, embedding_size=128, hidden_size=256)\n",
    "optimizer = optim.Adam(model.parameters(), lr=0.001)\n",
    "criterion = nn.CrossEntropyLoss()"
   ]
  },
  {
   "cell_type": "code",
   "execution_count": null,
   "id": "3454d518-a6b3-4152-95ca-c322d2d4dbf6",
   "metadata": {},
   "outputs": [],
   "source": [
    "for epoch in range(10):\n",
    "    dataloader = DataLoader(dataset, batch_size=32, shuffle=True)\n",
    "    for input_ids, target_ids in dataloader:\n",
    "        optimizer.zero_grad()\n",
    "        output = model(input_ids, target_ids)\n",
    "        loss = criterion(output.view(-1, dataset.vocab_size), target_ids.view(-1))\n",
    "        loss.backward()\n",
    "        optimizer.step()\n",
    "    print(f'Epoch {epoch+1}: Loss = {loss.item()}')\n",
    "\n",
    "# Predict and convert tense\n",
    "def predict_tense(sentence):\n",
    "    input_ids = [dataset.word2idx[token.text] for token in nlp(sentence)]\n",
    "    input_ids = torch.tensor([input_ids], device=next(model.parameters()).device)\n",
    "    output = model(input_ids, None)\n",
    "    predicted_tense = [dataset.idx2word[idx.item()] for idx in output[0]]\n",
    "    return ''.join(predicted_tense)\n",
    "\n",
    "def convert_tense(sentence, target_tense):\n",
    "    input_ids = [dataset.word2idx[token.text] for token in nlp(sentence)]\n",
    "    input_ids = torch.tensor([input_ids], device=next(model.parameters()).device)\n",
    "    target_tense_ids = [dataset.word2idx[token.text] for token in nlp(target_tense)]\n",
    "    target_tense_ids = torch.tensor([target_tense_ids], device=next(model.parameters()).device)\n",
    "    output = model(input_ids, target_tense_ids)\n",
    "    converted_words = [dataset.idx2word[idx.item()] for idx in output[0]]\n",
    "    return ' '.join(converted_words)\n",
    "\n",
    "# Example usage\n",
    "input_sentence = \"The dog chases the cat.\"\n",
    "target_tense = \"future\"\n",
    "\n",
    "predicted_tense = predict_tense(input_sentence)\n",
    "print(f\"Predicted tense: {predicted_tense}\")\n",
    "\n",
    "converted_sentence = convert_tense(input_sentence, target_tense)\n",
    "print(f\"Converted sentence: {converted_sentence}\")"
   ]
  }
 ],
 "metadata": {
  "kernelspec": {
   "display_name": "Python 3 (ipykernel)",
   "language": "python",
   "name": "python3"
  },
  "language_info": {
   "codemirror_mode": {
    "name": "ipython",
    "version": 3
   },
   "file_extension": ".py",
   "mimetype": "text/x-python",
   "name": "python",
   "nbconvert_exporter": "python",
   "pygments_lexer": "ipython3",
   "version": "3.11.7"
  }
 },
 "nbformat": 4,
 "nbformat_minor": 5
}
